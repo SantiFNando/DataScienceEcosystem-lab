{
 "cells": [
  {
   "cell_type": "markdown",
   "id": "f7c725e9-5921-4573-bcfb-49204b32c1f7",
   "metadata": {},
   "source": [
    "# Data Science Tools and Ecosystem"
   ]
  },
  {
   "cell_type": "markdown",
   "id": "697937ed-cb1b-489b-8b66-0e30f32dd077",
   "metadata": {},
   "source": [
    "In this notebook, Data Science Tools and Ecosystem are summarized."
   ]
  },
  {
   "cell_type": "markdown",
   "id": "ce277f03-31bb-4ad3-84f6-f00a940c80b0",
   "metadata": {},
   "source": [
    "**Objectives:**\n",
    " * List popular languages for Data Science\n",
    " * List some commonly used Data Science Libraries\n",
    " * List some Data Science Tools\n",
    " * Perform Arithmetic Expressions within Jupyter Notebook\n",
    " "
   ]
  },
  {
   "cell_type": "markdown",
   "id": "0a5a8f56-03ff-4c6d-999b-ef4107cbaa8e",
   "metadata": {},
   "source": [
    "Some of the popular languages that Data Scientists use are:\n",
    "1. Python\n",
    "2. R\n",
    "3. SQL"
   ]
  },
  {
   "cell_type": "markdown",
   "id": "dfca8a8e-05d1-4abc-bd4c-e5ed0842e3ca",
   "metadata": {},
   "source": [
    "Some of the commonly used libraries used by Data Scientists include:\n",
    "1. Pandas\n",
    "2. NumPy\n",
    "3. TensorFlow\n",
    "4. Matplotlib"
   ]
  },
  {
   "cell_type": "markdown",
   "id": "7416d716-e82e-4f3e-b00e-9c5a46e571df",
   "metadata": {},
   "source": [
    "| Data Science Tools |\n",
    "| --- |\n",
    "| Jupyter Notebook |\n",
    "| R Studio | \n",
    "| Visual Studio Code|\n"
   ]
  },
  {
   "cell_type": "markdown",
   "id": "b73383df-ab53-416f-ac85-515c0517a570",
   "metadata": {},
   "source": [
    "### Below are a few examples of evaluating arithmetic expressions in Python."
   ]
  },
  {
   "cell_type": "code",
   "execution_count": 1,
   "id": "350886ec-9544-4c67-a25b-f60f8ad85520",
   "metadata": {
    "tags": []
   },
   "outputs": [
    {
     "data": {
      "text/plain": [
       "17"
      ]
     },
     "execution_count": 1,
     "metadata": {},
     "output_type": "execute_result"
    }
   ],
   "source": [
    "# This a simple arithmetic expression to mutiply then add integers\n",
    "(3*4)+5"
   ]
  },
  {
   "cell_type": "code",
   "execution_count": 18,
   "id": "5704933c-350e-4b23-b1e0-3ce93e948a76",
   "metadata": {
    "tags": []
   },
   "outputs": [
    {
     "data": {
      "text/plain": [
       "3.3333333333333335"
      ]
     },
     "execution_count": 18,
     "metadata": {},
     "output_type": "execute_result"
    }
   ],
   "source": [
    "# This will convert 200 minutes to hours by diving by 60.\n",
    "200/60"
   ]
  },
  {
   "cell_type": "markdown",
   "id": "15b2c457-3743-4567-a928-8986ce44d235",
   "metadata": {},
   "source": [
    "## Author \n",
    "Santiago Fernandes"
   ]
  },
  {
   "cell_type": "code",
   "execution_count": null,
   "id": "d0029446-4756-4fe8-bf19-b2c68ece9c58",
   "metadata": {},
   "outputs": [],
   "source": []
  }
 ],
 "metadata": {
  "kernelspec": {
   "display_name": "Python",
   "language": "python",
   "name": "conda-env-python-py"
  },
  "language_info": {
   "codemirror_mode": {
    "name": "ipython",
    "version": 3
   },
   "file_extension": ".py",
   "mimetype": "text/x-python",
   "name": "python",
   "nbconvert_exporter": "python",
   "pygments_lexer": "ipython3",
   "version": "3.7.12"
  }
 },
 "nbformat": 4,
 "nbformat_minor": 5
}
